{
 "cells": [
  {
   "cell_type": "code",
   "execution_count": 1,
   "metadata": {},
   "outputs": [],
   "source": [
    "import json\n",
    "with open('keys.json') as f:\n",
    "    key_chain = json.loads(f.read())\n",
    "#the api key expires every 24 hours"
   ]
  },
  {
   "cell_type": "code",
   "execution_count": 2,
   "metadata": {},
   "outputs": [],
   "source": [
    "key = key_chain['Lol']['Key']"
   ]
  },
  {
   "cell_type": "code",
   "execution_count": 11,
   "metadata": {},
   "outputs": [],
   "source": [
    "#the api key expires every 24 hours\n",
    "#sharing this wouldnt matter cause by the time anyone reads this, the key will have expired :P\n",
    "key = 'RGAPI-c87f6d64-4433-475c-a9d6-1593446c60fe'"
   ]
  },
  {
   "cell_type": "code",
   "execution_count": 12,
   "metadata": {},
   "outputs": [],
   "source": [
    "#take = input(\"Summoner Name \")\n",
    "take = ''\n",
    "if len(take) == 0:\n",
    "    take = \"imaqtpie\"\n",
    "    #take = \"captaincrunchys\"\n",
    "summoner = {\"name\":take}"
   ]
  },
  {
   "cell_type": "markdown",
   "metadata": {
    "heading_collapsed": true
   },
   "source": [
    "### Imports"
   ]
  },
  {
   "cell_type": "code",
   "execution_count": 13,
   "metadata": {
    "hidden": true
   },
   "outputs": [],
   "source": [
    "import requests\n",
    "import pandas as pd\n",
    "import time\n",
    "import tqdm\n",
    "\n",
    "import matplotlib.pyplot as plt\n",
    "%matplotlib inline"
   ]
  },
  {
   "cell_type": "markdown",
   "metadata": {
    "heading_collapsed": true
   },
   "source": [
    "### Functions"
   ]
  },
  {
   "cell_type": "code",
   "execution_count": 14,
   "metadata": {
    "hidden": true
   },
   "outputs": [],
   "source": [
    "def get_matchs(game_id = 2665734035):\n",
    "    \"\"\"\n",
    "    have an empty\n",
    "    matchs = {} before code\n",
    "    \"\"\"\n",
    "    time.sleep(0.055)\n",
    "    game = requests.get(\"https://na1.api.riotgames.com/lol/match/v3/matches/\"+str(game_id)+url_comp)\n",
    "    #The api gives painful dictionaries that require iteration to get the player's stats that match\n",
    "    \n",
    "    \n",
    "    #This finds the participation id value for this particular match\n",
    "    for i,j in enumerate(game.json()['participantIdentities']):\n",
    "        if j['player']['summonerName'].lower().strip() == summoner['name'].lower():\n",
    "            part_id = j['participantId']\n",
    "\n",
    "            \n",
    "    #this iterates through 'participants' of each match and finds the data refering to our summoner\n",
    "    for i in game.json()['participants']:\n",
    "        if i['participantId'] == part_id:\n",
    "            stats = i\n",
    "    stats['stats']['duration'] = game.json()['gameDuration']\n",
    "    stats['stats']['gameMode'] = game.json()['gameMode']\n",
    "    stats['stats']['gameType'] = game.json()['gameType']\n",
    "    stats['stats']['gameId'] = game_id\n",
    "    matchs[str(game_id)] = stats['stats']\n",
    "    return"
   ]
  },
  {
   "cell_type": "markdown",
   "metadata": {
    "heading_collapsed": true
   },
   "source": [
    "### Apis for Summoner"
   ]
  },
  {
   "cell_type": "code",
   "execution_count": 15,
   "metadata": {
    "hidden": true
   },
   "outputs": [],
   "source": [
    "#api time limit = 20req per 1 sec\n",
    "#player info requires '?'\n",
    "url_comp = '?api_key='+key\n",
    "\n",
    "#champ info requires '&'\n",
    "url_comp_2 = '&api_key='+key"
   ]
  },
  {
   "cell_type": "code",
   "execution_count": 16,
   "metadata": {
    "hidden": true
   },
   "outputs": [],
   "source": [
    "#get summoner info\n",
    "eg = requests.get(\"https://na1.api.riotgames.com/lol/summoner/v3/summoners/by-name/\"+summoner[\"name\"]+url_comp)"
   ]
  },
  {
   "cell_type": "code",
   "execution_count": 17,
   "metadata": {
    "hidden": true
   },
   "outputs": [
    {
     "data": {
      "text/plain": [
       "<Response [200]>"
      ]
     },
     "execution_count": 17,
     "metadata": {},
     "output_type": "execute_result"
    }
   ],
   "source": [
    "eg"
   ]
  },
  {
   "cell_type": "code",
   "execution_count": 18,
   "metadata": {
    "hidden": true
   },
   "outputs": [],
   "source": [
    "summoner['accountId'] = str(eg.json()['accountId'])\n",
    "summoner['id'] = str(eg.json()['id'])"
   ]
  },
  {
   "cell_type": "code",
   "execution_count": 19,
   "metadata": {
    "hidden": true
   },
   "outputs": [],
   "source": [
    "#get match info\n",
    "eg2 = requests.get(\"https://na1.api.riotgames.com/lol/match/v3/matchlists/by-account/\"+summoner['accountId']+url_comp)"
   ]
  },
  {
   "cell_type": "code",
   "execution_count": 22,
   "metadata": {
    "hidden": true
   },
   "outputs": [],
   "source": [
    "#get champ info - static info\n",
    "\n",
    "#champ = requests.get('https://na1.api.riotgames.com/lol/static-data/v3/champions?locale=en_US&dataById=false'+url_comp_2)\n",
    "#champs = pd.DataFrame(champ.json()['data']).transpose()\n",
    "#champs.to_csv('champs.csv')\n",
    "champs = pd.read_csv('champs.csv')\n",
    "champs = champs.drop(['Unnamed: 0','key','title'],axis=1).sort_values('id').reset_index(drop=True)"
   ]
  },
  {
   "cell_type": "markdown",
   "metadata": {
    "heading_collapsed": true
   },
   "source": [
    "###  Api for Match History"
   ]
  },
  {
   "cell_type": "code",
   "execution_count": 23,
   "metadata": {
    "hidden": true
   },
   "outputs": [],
   "source": [
    "for i,j in enumerate(eg2.json()['matches']):\n",
    "    if i == 0:\n",
    "        player = pd.DataFrame([j])\n",
    "    else:\n",
    "        player = player.append(pd.DataFrame([j]))"
   ]
  },
  {
   "cell_type": "code",
   "execution_count": 24,
   "metadata": {
    "hidden": true
   },
   "outputs": [],
   "source": [
    "player = player.merge(champs,left_on='champion',right_on='id')\n",
    "del player['champion'], player['id'], eg, eg2\n",
    "player = player.rename(columns={'name':'champion'}).sort_values('timestamp').reset_index(drop=True)"
   ]
  },
  {
   "cell_type": "code",
   "execution_count": 30,
   "metadata": {
    "hidden": true
   },
   "outputs": [
    {
     "data": {
      "application/vnd.jupyter.widget-view+json": {
       "model_id": "420462b47fdd4be78cbe8cf5b4b217d1",
       "version_major": 2,
       "version_minor": 0
      },
      "text/html": [
       "<p>Failed to display Jupyter Widget of type <code>HBox</code>.</p>\n",
       "<p>\n",
       "  If you're reading this message in the Jupyter Notebook or JupyterLab Notebook, it may mean\n",
       "  that the widgets JavaScript is still loading. If this message persists, it\n",
       "  likely means that the widgets JavaScript library is either not installed or\n",
       "  not enabled. See the <a href=\"https://ipywidgets.readthedocs.io/en/stable/user_install.html\">Jupyter\n",
       "  Widgets Documentation</a> for setup instructions.\n",
       "</p>\n",
       "<p>\n",
       "  If you're reading this message in another frontend (for example, a static\n",
       "  rendering on GitHub or <a href=\"https://nbviewer.jupyter.org/\">NBViewer</a>),\n",
       "  it may mean that your frontend doesn't currently support widgets.\n",
       "</p>\n"
      ],
      "text/plain": [
       "HBox(children=(IntProgress(value=0), HTML(value='')))"
      ]
     },
     "metadata": {},
     "output_type": "display_data"
    },
    {
     "name": "stdout",
     "output_type": "stream",
     "text": [
      "\n"
     ]
    },
    {
     "name": "stderr",
     "output_type": "stream",
     "text": [
      "Exception in thread Thread-4:\n",
      "Traceback (most recent call last):\n",
      "  File \"/Users/Nahel/anaconda3/lib/python3.6/threading.py\", line 916, in _bootstrap_inner\n",
      "    self.run()\n",
      "  File \"/Users/Nahel/anaconda3/lib/python3.6/site-packages/tqdm/_tqdm.py\", line 144, in run\n",
      "    for instance in self.tqdm_cls._instances:\n",
      "  File \"/Users/Nahel/anaconda3/lib/python3.6/_weakrefset.py\", line 60, in __iter__\n",
      "    for itemref in self.data:\n",
      "RuntimeError: Set changed size during iteration\n",
      "\n"
     ]
    },
    {
     "name": "stdout",
     "output_type": "stream",
     "text": [
      "\n"
     ]
    }
   ],
   "source": [
    "#make aggregate info from each game into a df\n",
    "matchs = {}\n",
    "for i in tqdm.tqdm_notebook(player.gameId):\n",
    "    try: get_matchs(i)\n",
    "    except:\n",
    "        pass"
   ]
  },
  {
   "cell_type": "code",
   "execution_count": 31,
   "metadata": {
    "hidden": true
   },
   "outputs": [],
   "source": [
    "matchs = pd.DataFrame(matchs).transpose()"
   ]
  },
  {
   "cell_type": "code",
   "execution_count": 32,
   "metadata": {
    "hidden": true
   },
   "outputs": [],
   "source": [
    "player_stats = player.merge(matchs,left_on='gameId',right_on='gameId')"
   ]
  },
  {
   "cell_type": "markdown",
   "metadata": {},
   "source": [
    "### Lookin at Stats"
   ]
  },
  {
   "cell_type": "code",
   "execution_count": 34,
   "metadata": {},
   "outputs": [
    {
     "data": {
      "image/png": "[encoded data removed]",
      "text/plain": [
       "<matplotlib.figure.Figure at 0x111f756a0>"
      ]
     },
     "metadata": {},
     "output_type": "display_data"
    }
   ],
   "source": [
    "ax = player_stats.champion.value_counts().plot(kind='bar')\n",
    "ax.set_title('Champion Picks');"
   ]
  },
  {
   "cell_type": "code",
   "execution_count": 35,
   "metadata": {},
   "outputs": [
    {
     "data": {
      "image/png": "[encoded data removed]",
      "text/plain": [
       "<matplotlib.figure.Figure at 0x1119e4e80>"
      ]
     },
     "metadata": {},
     "output_type": "display_data"
    }
   ],
   "source": [
    "player_stats.groupby('win')['champion'].value_counts().plot(kind='bar');"
   ]
  },
  {
   "cell_type": "code",
   "execution_count": 36,
   "metadata": {},
   "outputs": [
    {
     "data": {
      "text/plain": [
       "champion     win  \n",
       "Alistar      True     4\n",
       "             False    3\n",
       "Ashe         False    1\n",
       "Bard         False    1\n",
       "Draven       False    5\n",
       "Ezreal       False    7\n",
       "             True     7\n",
       "Gangplank    True     1\n",
       "Graves       False    5\n",
       "             True     3\n",
       "Jhin         False    2\n",
       "             True     2\n",
       "Jinx         False    7\n",
       "             True     5\n",
       "Kai'Sa       True     8\n",
       "             False    2\n",
       "Kayn         False    1\n",
       "Kennen       False    4\n",
       "             True     1\n",
       "Kog'Maw      False    1\n",
       "             True     1\n",
       "Lee Sin      False    1\n",
       "             True     1\n",
       "Lucian       False    1\n",
       "Mordekaiser  False    1\n",
       "Nunu         False    2\n",
       "Singed       False    2\n",
       "Sion         False    3\n",
       "             True     3\n",
       "Sivir        False    3\n",
       "             True     1\n",
       "Tahm Kench   False    1\n",
       "             True     1\n",
       "Twitch       False    1\n",
       "Varus        False    2\n",
       "Vayne        False    1\n",
       "Xayah        False    2\n",
       "             True     2\n",
       "Xerath       False    1\n",
       "Name: win, dtype: int64"
      ]
     },
     "execution_count": 36,
     "metadata": {},
     "output_type": "execute_result"
    }
   ],
   "source": [
    "player_stats.groupby(['champion'])['win'].value_counts()"
   ]
  },
  {
   "cell_type": "code",
   "execution_count": 37,
   "metadata": {},
   "outputs": [
    {
     "data": {
      "text/plain": [
       "<matplotlib.axes._subplots.AxesSubplot at 0x111c0c7f0>"
      ]
     },
     "execution_count": 37,
     "metadata": {},
     "output_type": "execute_result"
    },
    {
     "data": {
      "image/png": "[encoded data removed]",
      "text/plain": [
       "<matplotlib.figure.Figure at 0x111a23898>"
      ]
     },
     "metadata": {},
     "output_type": "display_data"
    }
   ],
   "source": [
    "player_stats.groupby('lane')['win'].value_counts().plot(kind='bar')"
   ]
  },
  {
   "cell_type": "code",
   "execution_count": 49,
   "metadata": {},
   "outputs": [
    {
     "data": {
      "text/plain": [
       "Index(['gameId', 'lane', 'platformId', 'queue', 'role', 'season', 'timestamp',\n",
       "       'champion', 'assists', 'champLevel', 'combatPlayerScore',\n",
       "       'damageDealtToObjectives', 'damageDealtToTurrets',\n",
       "       'damageSelfMitigated', 'deaths', 'doubleKills', 'duration',\n",
       "       'firstBloodAssist', 'firstBloodKill', 'firstInhibitorAssist',\n",
       "       'firstInhibitorKill', 'firstTowerAssist', 'firstTowerKill', 'gameMode',\n",
       "       'gameType', 'goldEarned', 'goldSpent', 'inhibitorKills', 'item0',\n",
       "       'item1', 'item2', 'item3', 'item4', 'item5', 'item6', 'killingSprees',\n",
       "       'kills', 'largestCriticalStrike', 'largestKillingSpree',\n",
       "       'largestMultiKill', 'longestTimeSpentLiving', 'magicDamageDealt',\n",
       "       'magicDamageDealtToChampions', 'magicalDamageTaken',\n",
       "       'neutralMinionsKilled', 'neutralMinionsKilledEnemyJungle',\n",
       "       'neutralMinionsKilledTeamJungle', 'objectivePlayerScore',\n",
       "       'participantId', 'pentaKills', 'perk0', 'perk0Var1', 'perk0Var2',\n",
       "       'perk0Var3', 'perk1', 'perk1Var1', 'perk1Var2', 'perk1Var3', 'perk2',\n",
       "       'perk2Var1', 'perk2Var2', 'perk2Var3', 'perk3', 'perk3Var1',\n",
       "       'perk3Var2', 'perk3Var3', 'perk4', 'perk4Var1', 'perk4Var2',\n",
       "       'perk4Var3', 'perk5', 'perk5Var1', 'perk5Var2', 'perk5Var3',\n",
       "       'perkPrimaryStyle', 'perkSubStyle', 'physicalDamageDealt',\n",
       "       'physicalDamageDealtToChampions', 'physicalDamageTaken', 'playerScore0',\n",
       "       'playerScore1', 'playerScore2', 'playerScore3', 'playerScore4',\n",
       "       'playerScore5', 'playerScore6', 'playerScore7', 'playerScore8',\n",
       "       'playerScore9', 'quadraKills', 'sightWardsBoughtInGame',\n",
       "       'timeCCingOthers', 'totalDamageDealt', 'totalDamageDealtToChampions',\n",
       "       'totalDamageTaken', 'totalHeal', 'totalMinionsKilled',\n",
       "       'totalPlayerScore', 'totalScoreRank', 'totalTimeCrowdControlDealt'],\n",
       "      dtype='object')"
      ]
     },
     "execution_count": 49,
     "metadata": {},
     "output_type": "execute_result"
    }
   ],
   "source": [
    "player_stats.columns[:100]"
   ]
  },
  {
   "cell_type": "code",
   "execution_count": 50,
   "metadata": {},
   "outputs": [
    {
     "data": {
      "text/plain": [
       "Index(['tripleKills', 'trueDamageDealt', 'trueDamageDealtToChampions',\n",
       "       'trueDamageTaken', 'turretKills', 'unrealKills', 'visionScore',\n",
       "       'visionWardsBoughtInGame', 'wardsKilled', 'wardsPlaced', 'win'],\n",
       "      dtype='object')"
      ]
     },
     "execution_count": 50,
     "metadata": {},
     "output_type": "execute_result"
    }
   ],
   "source": [
    "player_stats.columns[101:201]"
   ]
  },
  {
   "cell_type": "code",
   "execution_count": null,
   "metadata": {},
   "outputs": [],
   "source": []
  }
 ],
 "metadata": {
  "kernelspec": {
   "display_name": "Python [default]",
   "language": "python",
   "name": "python3"
  },
  "language_info": {
   "codemirror_mode": {
    "name": "ipython",
    "version": 3
   },
   "file_extension": ".py",
   "mimetype": "text/x-python",
   "name": "python",
   "nbconvert_exporter": "python",
   "pygments_lexer": "ipython3",
   "version": "3.6.4"
  }
 },
 "nbformat": 4,
 "nbformat_minor": 2
}
